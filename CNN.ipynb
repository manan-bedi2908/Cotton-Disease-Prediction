{
 "cells": [
  {
   "cell_type": "code",
   "execution_count": 1,
   "id": "913eb06a",
   "metadata": {},
   "outputs": [],
   "source": [
    "import tensorflow as tf\n",
    "from tensorflow.keras.preprocessing.image import ImageDataGenerator\n",
    "from tensorflow.keras.layers import Conv2D, MaxPool2D, Flatten, Dense\n",
    "from tensorflow.keras.models import Sequential\n",
    "from tensorflow.keras.preprocessing import image\n",
    "import matplotlib.pyplot as plt\n",
    "import cv2\n",
    "from PIL import Image"
   ]
  },
  {
   "cell_type": "code",
   "execution_count": 2,
   "id": "015ad5f1",
   "metadata": {},
   "outputs": [],
   "source": [
    "IMG_HEIGHT = 64\n",
    "IMG_WIDTH = 64\n",
    "DEPTH = 3\n",
    "\n",
    "train_datagen = ImageDataGenerator(rescale = 1./255,\n",
    "    rotation_range=25, width_shift_range=0.1,\n",
    "    height_shift_range=0.1, shear_range=0.2,\n",
    "    zoom_range=0.2, horizontal_flip=True,\n",
    "    fill_mode=\"nearest\")"
   ]
  },
  {
   "cell_type": "code",
   "execution_count": 3,
   "id": "52d15f62",
   "metadata": {},
   "outputs": [
    {
     "name": "stdout",
     "output_type": "stream",
     "text": [
      "Found 1951 images belonging to 4 classes.\n"
     ]
    }
   ],
   "source": [
    "training_set = train_datagen.flow_from_directory('Cotton Disease/train',\n",
    "                                                 color_mode = \"rgb\",\n",
    "                                                 shuffle = True,\n",
    "                                                 seed = 42,\n",
    "                                                 target_size=  (IMG_HEIGHT, IMG_WIDTH),\n",
    "                                                 batch_size = 32,\n",
    "                                                 class_mode = 'categorical')"
   ]
  },
  {
   "cell_type": "code",
   "execution_count": 4,
   "id": "71ba391d",
   "metadata": {},
   "outputs": [
    {
     "name": "stdout",
     "output_type": "stream",
     "text": [
      "Found 253 images belonging to 4 classes.\n"
     ]
    }
   ],
   "source": [
    "val_datagen = ImageDataGenerator(rescale = 1./255)\n",
    "val_set = val_datagen.flow_from_directory('Cotton Disease/val',\n",
    "                                            color_mode = \"rgb\",\n",
    "                                            shuffle = True,\n",
    "                                            seed =42,\n",
    "                                            target_size = (IMG_HEIGHT, IMG_WIDTH),\n",
    "                                            batch_size = 32,\n",
    "                                            class_mode = 'categorical')"
   ]
  },
  {
   "cell_type": "code",
   "execution_count": 5,
   "id": "512dc76b",
   "metadata": {},
   "outputs": [],
   "source": [
    "cnn = Sequential()\n",
    "cnn.add(Conv2D(filters=32, padding='same',kernel_size=3, activation='relu', input_shape=[64,64,3]))\n",
    "cnn.add(MaxPool2D(pool_size=2, strides=2))\n",
    "cnn.add(Conv2D(filters=32, padding='same',kernel_size=3, activation='relu'))\n",
    "cnn.add(MaxPool2D(pool_size=2, strides=2))\n",
    "cnn.add(Conv2D(filters=32, padding='same',kernel_size=3, activation='relu'))\n",
    "cnn.add(MaxPool2D(pool_size=2, strides=2))\n",
    "cnn.add(Flatten())\n",
    "cnn.add(Dense(units=128, activation='relu'))\n",
    "cnn.add(Dense(units=4, activation='softmax'))"
   ]
  },
  {
   "cell_type": "code",
   "execution_count": 6,
   "id": "27a2919d",
   "metadata": {},
   "outputs": [],
   "source": [
    "cnn.compile(optimizer='adam',\n",
    "                        loss=tf.keras.losses.CategoricalCrossentropy(),\n",
    "                        metrics=['accuracy'])"
   ]
  },
  {
   "cell_type": "code",
   "execution_count": 7,
   "id": "0c111055",
   "metadata": {},
   "outputs": [
    {
     "name": "stdout",
     "output_type": "stream",
     "text": [
      "Epoch 1/10\n",
      "61/61 [==============================] - 51s 789ms/step - loss: 1.1667 - accuracy: 0.4931 - val_loss: 0.9795 - val_accuracy: 0.6324\n",
      "Epoch 2/10\n",
      "61/61 [==============================] - 43s 698ms/step - loss: 0.8797 - accuracy: 0.6545 - val_loss: 0.7599 - val_accuracy: 0.6759\n",
      "Epoch 3/10\n",
      "61/61 [==============================] - 44s 715ms/step - loss: 0.7218 - accuracy: 0.6945 - val_loss: 0.7820 - val_accuracy: 0.7273\n",
      "Epoch 4/10\n",
      "61/61 [==============================] - 42s 682ms/step - loss: 0.6296 - accuracy: 0.7499 - val_loss: 0.4979 - val_accuracy: 0.8024\n",
      "Epoch 5/10\n",
      "61/61 [==============================] - 37s 614ms/step - loss: 0.5120 - accuracy: 0.8006 - val_loss: 0.3382 - val_accuracy: 0.8696\n",
      "Epoch 6/10\n",
      "61/61 [==============================] - 37s 610ms/step - loss: 0.5211 - accuracy: 0.7970 - val_loss: 0.3453 - val_accuracy: 0.8814\n",
      "Epoch 7/10\n",
      "61/61 [==============================] - 38s 620ms/step - loss: 0.4494 - accuracy: 0.8288 - val_loss: 0.2803 - val_accuracy: 0.8933\n",
      "Epoch 8/10\n",
      "61/61 [==============================] - 38s 622ms/step - loss: 0.4072 - accuracy: 0.8498 - val_loss: 0.4326 - val_accuracy: 0.8103\n",
      "Epoch 9/10\n",
      "61/61 [==============================] - 38s 618ms/step - loss: 0.3863 - accuracy: 0.8555 - val_loss: 0.2718 - val_accuracy: 0.8972\n",
      "Epoch 10/10\n",
      "61/61 [==============================] - 38s 615ms/step - loss: 0.4082 - accuracy: 0.8324 - val_loss: 0.4503 - val_accuracy: 0.7905\n"
     ]
    }
   ],
   "source": [
    "model = cnn.fit(\n",
    "  training_set,\n",
    "  validation_data=val_set,\n",
    "  epochs=10,\n",
    "  steps_per_epoch=len(training_set),\n",
    "  validation_steps=len(val_set)\n",
    ")\n"
   ]
  },
  {
   "cell_type": "code",
   "execution_count": 8,
   "id": "3e42b8c5",
   "metadata": {},
   "outputs": [
    {
     "data": {
      "image/png": "[encoded data removed]",
      "text/plain": [
       "<Figure size 1500x500 with 2 Axes>"
      ]
     },
     "metadata": {},
     "output_type": "display_data"
    }
   ],
   "source": [
    "fig, axs = plt.subplots(nrows=1, ncols=2, figsize=(15,5))\n",
    "axs[0].plot(model.history['accuracy'])\n",
    "axs[0].plot(model.history['val_accuracy'])\n",
    "axs[0].set_title('Model accuracy')\n",
    "axs[0].legend(['Train', 'Val'], loc='upper left')\n",
    "\n",
    "axs[1].plot(model.history['loss'])\n",
    "axs[1].plot(model.history['val_loss'])\n",
    "axs[1].set_title('Model loss')\n",
    "axs[1].legend(['Train', 'Val'], loc='upper left')\n",
    "\n",
    "for ax in axs.flat:\n",
    "    ax.set(xlabel='Epoch')"
   ]
  },
  {
   "cell_type": "code",
   "execution_count": 9,
   "id": "ed1ce63a",
   "metadata": {},
   "outputs": [
    {
     "name": "stdout",
     "output_type": "stream",
     "text": [
      "Found 106 images belonging to 4 classes.\n"
     ]
    }
   ],
   "source": [
    "test_datagen = ImageDataGenerator(rescale = 1./255)\n",
    "test_set = val_datagen.flow_from_directory('Cotton Disease/test',\n",
    "                                            color_mode = \"rgb\",\n",
    "                                            shuffle = True,\n",
    "                                            seed =42,\n",
    "                                            target_size = (IMG_HEIGHT, IMG_WIDTH),\n",
    "                                            #batch_size = 32,\n",
    "                                            class_mode = 'categorical')"
   ]
  },
  {
   "cell_type": "code",
   "execution_count": 10,
   "id": "0a932a9a",
   "metadata": {},
   "outputs": [
    {
     "name": "stdout",
     "output_type": "stream",
     "text": [
      "[INFO]Calculating model accuracy\n"
     ]
    },
    {
     "ename": "AttributeError",
     "evalue": "'History' object has no attribute 'evaluate'",
     "output_type": "error",
     "traceback": [
      "\u001b[1;31m---------------------------------------------------------------------------\u001b[0m",
      "\u001b[1;31mAttributeError\u001b[0m                            Traceback (most recent call last)",
      "Cell \u001b[1;32mIn[10], line 2\u001b[0m\n\u001b[0;32m      1\u001b[0m \u001b[38;5;28mprint\u001b[39m(\u001b[38;5;124m\"\u001b[39m\u001b[38;5;124m[INFO]Calculating model accuracy\u001b[39m\u001b[38;5;124m\"\u001b[39m)\n\u001b[1;32m----> 2\u001b[0m test_loss, test_acc \u001b[38;5;241m=\u001b[39m \u001b[43mmodel\u001b[49m\u001b[38;5;241;43m.\u001b[39;49m\u001b[43mevaluate\u001b[49m(test_set)\n\u001b[0;32m      3\u001b[0m \u001b[38;5;28mprint\u001b[39m(\u001b[38;5;124mf\u001b[39m\u001b[38;5;124m\"\u001b[39m\u001b[38;5;124mTest Accuracy: \u001b[39m\u001b[38;5;132;01m{\u001b[39;00mscores[\u001b[38;5;241m1\u001b[39m]\u001b[38;5;132;01m}\u001b[39;00m\u001b[38;5;124m\"\u001b[39m)\n",
      "\u001b[1;31mAttributeError\u001b[0m: 'History' object has no attribute 'evaluate'"
     ]
    }
   ],
   "source": [
    "print(\"[INFO]Calculating model accuracy\")\n",
    "test_loss, test_acc = model.evaluate(test_set)\n",
    "print(f\"Test Accuracy: {scores[1]}\")"
   ]
  },
  {
   "cell_type": "code",
   "execution_count": 12,
   "id": "ec723422",
   "metadata": {},
   "outputs": [
    {
     "name": "stdout",
     "output_type": "stream",
     "text": [
      "Model: \"sequential\"\n",
      "_________________________________________________________________\n",
      " Layer (type)                Output Shape              Param #   \n",
      "=================================================================\n",
      " conv2d (Conv2D)             (None, 64, 64, 32)        896       \n",
      "                                                                 \n",
      " max_pooling2d (MaxPooling2D  (None, 32, 32, 32)       0         \n",
      " )                                                               \n",
      "                                                                 \n",
      " conv2d_1 (Conv2D)           (None, 32, 32, 32)        9248      \n",
      "                                                                 \n",
      " max_pooling2d_1 (MaxPooling  (None, 16, 16, 32)       0         \n",
      " 2D)                                                             \n",
      "                                                                 \n",
      " conv2d_2 (Conv2D)           (None, 16, 16, 32)        9248      \n",
      "                                                                 \n",
      " max_pooling2d_2 (MaxPooling  (None, 8, 8, 32)         0         \n",
      " 2D)                                                             \n",
      "                                                                 \n",
      " flatten (Flatten)           (None, 2048)              0         \n",
      "                                                                 \n",
      " dense (Dense)               (None, 128)               262272    \n",
      "                                                                 \n",
      " dense_1 (Dense)             (None, 4)                 516       \n",
      "                                                                 \n",
      "=================================================================\n",
      "Total params: 282,180\n",
      "Trainable params: 282,180\n",
      "Non-trainable params: 0\n",
      "_________________________________________________________________\n"
     ]
    }
   ],
   "source": [
    "cnn.summary()"
   ]
  },
  {
   "cell_type": "code",
   "execution_count": 11,
   "id": "4f0c5168",
   "metadata": {},
   "outputs": [],
   "source": [
    "class_names={0:'diseased cotton leaf',1:'diseased cotton plant',2:'fresh cotton leaf',3:'fresh cotton plant'}"
   ]
  },
  {
   "cell_type": "code",
   "execution_count": 13,
   "id": "c8f96133",
   "metadata": {},
   "outputs": [
    {
     "ename": "AttributeError",
     "evalue": "'History' object has no attribute 'evaluate'",
     "output_type": "error",
     "traceback": [
      "\u001b[1;31m---------------------------------------------------------------------------\u001b[0m",
      "\u001b[1;31mAttributeError\u001b[0m                            Traceback (most recent call last)",
      "Cell \u001b[1;32mIn[13], line 1\u001b[0m\n\u001b[1;32m----> 1\u001b[0m test_results\u001b[38;5;241m=\u001b[39m\u001b[43mmodel\u001b[49m\u001b[38;5;241;43m.\u001b[39;49m\u001b[43mevaluate\u001b[49m(test_data)\n\u001b[0;32m      2\u001b[0m \u001b[38;5;28mprint\u001b[39m(\u001b[38;5;124mf\u001b[39m\u001b[38;5;124m'\u001b[39m\u001b[38;5;124mTest results - Loss: \u001b[39m\u001b[38;5;132;01m{\u001b[39;00mtest_results[\u001b[38;5;241m0\u001b[39m]\u001b[38;5;132;01m}\u001b[39;00m\u001b[38;5;124m - Accuracy: \u001b[39m\u001b[38;5;132;01m{\u001b[39;00mtest_results[\u001b[38;5;241m1\u001b[39m]\u001b[38;5;241m*\u001b[39m\u001b[38;5;241m100\u001b[39m\u001b[38;5;132;01m}\u001b[39;00m\u001b[38;5;124m%\u001b[39m\u001b[38;5;124m'\u001b[39m)\n",
      "\u001b[1;31mAttributeError\u001b[0m: 'History' object has no attribute 'evaluate'"
     ]
    }
   ],
   "source": [
    "test_results=model.evaluate(test_data)\n",
    "print(f'Test results - Loss: {test_results[0]} - Accuracy: {test_results[1]*100}%')"
   ]
  },
  {
   "cell_type": "code",
   "execution_count": 17,
   "id": "a0cb1c60",
   "metadata": {},
   "outputs": [
    {
     "name": "stdout",
     "output_type": "stream",
     "text": [
      "4/4 [==============================] - 7s 2s/step\n"
     ]
    },
    {
     "data": {
      "text/plain": [
       "[1, 1, 0, 1, 1, 1, 1, 1, 3, 1, 1, 1, 1, 0, 0, 0, 0, 2, 1, 0]"
      ]
     },
     "execution_count": 17,
     "metadata": {},
     "output_type": "execute_result"
    }
   ],
   "source": [
    "import numpy as np\n",
    "pred=cnn.predict(test_set)\n",
    "y_pred_classes = [np.argmax(element) for element in pred]\n",
    "y_pred_classes[:20]"
   ]
  },
  {
   "cell_type": "code",
   "execution_count": 18,
   "id": "04d8331b",
   "metadata": {},
   "outputs": [],
   "source": [
    "def predict(image_path):\n",
    "    test_image=image.load_img(image_path, target_size =(img_size,img_size) )\n",
    "    plt.imshow(test_image)\n",
    "    test_image = np.expand_dims(test_image, axis = 0)\n",
    "    preds=np.argmax(model.predict(test_image))\n",
    "    print(class_names[preds])"
   ]
  },
  {
   "cell_type": "code",
   "execution_count": 21,
   "id": "da0f386d",
   "metadata": {},
   "outputs": [
    {
     "data": {
      "text/plain": [
       "(1, 224, 224, 3)"
      ]
     },
     "execution_count": 21,
     "metadata": {},
     "output_type": "execute_result"
    }
   ],
   "source": [
    "test_image=image.load_img('Cotton Disease/test/diseased cotton leaf/dis_leaf (153)_iaip.jpg', target_size = (224,224))\n",
    "test_image = np.expand_dims(test_image, axis = 0)\n",
    "test_image.shape"
   ]
  },
  {
   "cell_type": "code",
   "execution_count": 24,
   "id": "41ab617b",
   "metadata": {},
   "outputs": [
    {
     "name": "stdout",
     "output_type": "stream",
     "text": [
      "              precision    recall  f1-score   support\n",
      "\n",
      "           0       0.25      0.24      0.24        25\n",
      "           1       0.27      0.46      0.34        28\n",
      "           2       0.33      0.31      0.32        26\n",
      "           3       0.33      0.11      0.17        27\n",
      "\n",
      "    accuracy                           0.28       106\n",
      "   macro avg       0.30      0.28      0.27       106\n",
      "weighted avg       0.30      0.28      0.27       106\n",
      "\n"
     ]
    }
   ],
   "source": [
    "from sklearn.metrics import classification_report\n",
    "from sklearn.metrics import confusion_matrix\n",
    "test_labels = test_set.classes\n",
    "test_labels\n",
    "print(classification_report(test_labels, y_pred_classes))"
   ]
  },
  {
   "cell_type": "markdown",
   "id": "3b85a274",
   "metadata": {},
   "source": [
    "# Transfer Learning"
   ]
  },
  {
   "cell_type": "code",
   "execution_count": null,
   "id": "6cd20c0d",
   "metadata": {},
   "outputs": [],
   "source": []
  }
 ],
 "metadata": {
  "kernelspec": {
   "display_name": "Python 3 (ipykernel)",
   "language": "python",
   "name": "python3"
  },
  "language_info": {
   "codemirror_mode": {
    "name": "ipython",
    "version": 3
   },
   "file_extension": ".py",
   "mimetype": "text/x-python",
   "name": "python",
   "nbconvert_exporter": "python",
   "pygments_lexer": "ipython3",
   "version": "3.8.0"
  }
 },
 "nbformat": 4,
 "nbformat_minor": 5
}
